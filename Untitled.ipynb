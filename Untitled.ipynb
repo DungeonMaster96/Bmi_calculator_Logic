{
 "cells": [
  {
   "cell_type": "markdown",
   "id": "a90baf82",
   "metadata": {},
   "source": [
    "# BMI CALCULATOR"
   ]
  },
  {
   "cell_type": "code",
   "execution_count": null,
   "id": "8f4873b5",
   "metadata": {},
   "outputs": [],
   "source": [
    "#bmi = (weight in kgs * 703)/(height in centimeters*height in centimeters)"
   ]
  },
  {
   "cell_type": "code",
   "execution_count": 15,
   "id": "24bfce7e",
   "metadata": {},
   "outputs": [
    {
     "name": "stdout",
     "output_type": "stream",
     "text": [
      "Enter you name: shobha\n",
      "Enter your weight in Kilograms70\n",
      "Enter your height in centimeters165\n",
      "25.711662075298438\n"
     ]
    }
   ],
   "source": [
    "name = input(\"Enter you name: \")\n",
    "\n",
    "weight = float(input(\"Enter your weight in Kilograms\"))\n",
    "\n",
    "height  = float(input(\"Enter your height in centimeters\"))\n",
    "\n",
    "bmi = (weight)/(height*height) *  10000\n",
    "\n",
    "print(bmi)"
   ]
  },
  {
   "cell_type": "code",
   "execution_count": 16,
   "id": "cc9e2f76",
   "metadata": {},
   "outputs": [
    {
     "name": "stdout",
     "output_type": "stream",
     "text": [
      "shobha, you are overweight. You need to exercise more and stop sitting and writing so many python tutorials.\n"
     ]
    }
   ],
   "source": [
    "if bmi>0:\n",
    "    if(bmi<18.5):\n",
    "        print(name +\", you are underweight.\")\n",
    "    elif (bmi<=24.9):\n",
    "        print(name +\", you are normal weight.\")\n",
    "    elif (bmi<29.9):\n",
    "        print(name +\", you are overweight. You need to exercise more and stop sitting and writing so many python tutorials.\")\n",
    "    elif (bmi<34.9):\n",
    "        print(name +\", you are obese.\")\n",
    "    elif (bmi<39.9):\n",
    "        print(name +\", you are severely obese.\")\n",
    "    else:\n",
    "        print(name +\", you are morbidly obese.\")\n",
    "else:\n",
    "    print(\"Enter valid input\")\n",
    "        "
   ]
  },
  {
   "cell_type": "code",
   "execution_count": null,
   "id": "6869c5c3",
   "metadata": {},
   "outputs": [],
   "source": []
  },
  {
   "cell_type": "code",
   "execution_count": null,
   "id": "c1c42e56",
   "metadata": {},
   "outputs": [],
   "source": []
  },
  {
   "cell_type": "markdown",
   "id": "e0c86020",
   "metadata": {},
   "source": [
    "Under 18.5\tUnderweight\tMinimal\n",
    "\n",
    "18.5 - 24.9\tNormal Weight\tMinimal\n",
    "\n",
    "25 - 29.9\tOverweight\tIncreased\n",
    "\n",
    "30 - 34.9\tObese\tHigh\n",
    "\n",
    "35 - 39.9\tSeverely Obese\tVery High\n",
    "\n",
    "40 and over\tMorbidly Obese\tExtremely High"
   ]
  }
 ],
 "metadata": {
  "kernelspec": {
   "display_name": "Python 3 (ipykernel)",
   "language": "python",
   "name": "python3"
  },
  "language_info": {
   "codemirror_mode": {
    "name": "ipython",
    "version": 3
   },
   "file_extension": ".py",
   "mimetype": "text/x-python",
   "name": "python",
   "nbconvert_exporter": "python",
   "pygments_lexer": "ipython3",
   "version": "3.11.5"
  }
 },
 "nbformat": 4,
 "nbformat_minor": 5
}
